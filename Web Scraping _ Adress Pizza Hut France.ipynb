{
 "cells": [
  {
   "cell_type": "markdown",
   "metadata": {},
   "source": [
    "### Web scraping with BeautifulSoup ##\n",
    "\n",
    "Let's start importing the libraries"
   ]
  },
  {
   "cell_type": "code",
   "execution_count": null,
   "metadata": {},
   "outputs": [],
   "source": [
    "# this module allows you to send HTTP/1.1 requests\n",
    "import requests\n",
    "\n",
    "# the most common web scraping module for Python\n",
    "from bs4 import BeautifulSoup\n",
    "\n",
    "# powerful Python data analysis toolkit\n",
    "import pandas as pd"
   ]
  },
  {
   "cell_type": "markdown",
   "metadata": {},
   "source": [
    "**Access to the site web and check for [possible answers](https://fr.wikipedia.org/wiki/Liste_des_codes_HTTP) from the serveur.**"
   ]
  },
  {
   "cell_type": "code",
   "execution_count": null,
   "metadata": {},
   "outputs": [],
   "source": [
    "# access to the site web, check for 200 status code\n",
    "url = requests.get('https://www.pizzahut.fr/huts/')\n",
    "print(url, url.status_code)"
   ]
  },
  {
   "cell_type": "code",
   "execution_count": null,
   "metadata": {},
   "outputs": [],
   "source": [
    "# parse the HTMP structure\n",
    "soup = BeautifulSoup(url.content,'html')\n",
    "print(soup.prettify())"
   ]
  },
  {
   "cell_type": "code",
   "execution_count": null,
   "metadata": {},
   "outputs": [],
   "source": [
    "# extracting adress from 'p' HTML tags\n",
    "address = []\n",
    "\n",
    "for x in soup.find_all(\"p\"):\n",
    "    address.append(x.text)\n",
    "    \n",
    "address"
   ]
  },
  {
   "cell_type": "code",
   "execution_count": null,
   "metadata": {},
   "outputs": [],
   "source": [
    "# split the adresses by street, city and postal code\n",
    "street = []\n",
    "city = []\n",
    "zipcode = []\n",
    "\n",
    "for elem in address[:-1]:\n",
    "    street.append(elem.split(',')[0])\n",
    "    city.append(elem.split(',')[1])\n",
    "    zipcode.append(elem[-5:])\n"
   ]
  },
  {
   "cell_type": "code",
   "execution_count": null,
   "metadata": {},
   "outputs": [],
   "source": [
    "# check for the same lenght to make a dataframe with pandas\n",
    "print(len(street), len(city), len(zipcode))"
   ]
  },
  {
   "cell_type": "code",
   "execution_count": null,
   "metadata": {},
   "outputs": [],
   "source": [
    "# creating a dataframe with pandas module\n",
    "df = pd.DataFrame()\n",
    "df['Address Pizza Hut'] = street\n",
    "df['City'] = city\n",
    "df['Zipcode'] = zipcode\n",
    "df.head(10)"
   ]
  },
  {
   "cell_type": "code",
   "execution_count": null,
   "metadata": {},
   "outputs": [],
   "source": [
    "# save your DF\n",
    "df.to_csv('C:/Users/m.belo-quertier/Documents/chatBot/pizzaHut.csv', index=False)"
   ]
  },
  {
   "cell_type": "code",
   "execution_count": null,
   "metadata": {},
   "outputs": [],
   "source": [
    "# check loading it\n",
    "data = pd.read_csv(\"C:/Users/m.belo-quertier/Documents/chatBot/pizzaHut.csv\") \n",
    "data.head()"
   ]
  },
  {
   "cell_type": "code",
   "execution_count": null,
   "metadata": {},
   "outputs": [],
   "source": []
  }
 ],
 "metadata": {
  "kernelspec": {
   "display_name": "Python 3",
   "language": "python",
   "name": "python3"
  },
  "language_info": {
   "codemirror_mode": {
    "name": "ipython",
    "version": 3
   },
   "file_extension": ".py",
   "mimetype": "text/x-python",
   "name": "python",
   "nbconvert_exporter": "python",
   "pygments_lexer": "ipython3",
   "version": "3.7.1"
  }
 },
 "nbformat": 4,
 "nbformat_minor": 2
}
